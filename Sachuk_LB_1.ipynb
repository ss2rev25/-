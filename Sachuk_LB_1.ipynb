{
 "cells": [
  {
   "metadata": {},
   "cell_type": "markdown",
   "source": "Варіант 20",
   "id": "cf949e169a947043"
  },
  {
   "metadata": {
    "ExecuteTime": {
     "end_time": "2024-08-10T13:06:40.800842Z",
     "start_time": "2024-08-10T13:06:40.795714Z"
    }
   },
   "cell_type": "code",
   "source": "import numpy as np",
   "id": "d531f801d1c1cb76",
   "outputs": [],
   "execution_count": 11
  },
  {
   "metadata": {},
   "cell_type": "markdown",
   "source": [
    "1. Створіть одновимірний масив (вектор) з сумами кожного числа та його\n",
    "попереднього, починаючи з 1, та виведіть його значення."
   ],
   "id": "e787733e0ee62b3c"
  },
  {
   "metadata": {
    "ExecuteTime": {
     "end_time": "2024-08-10T13:23:17.072100Z",
     "start_time": "2024-08-10T13:23:17.067218Z"
    }
   },
   "cell_type": "code",
   "source": [
    "n = 20\n",
    "fib = np.zeros(n, dtype=int)\n",
    "fib[0] = 1\n",
    "if n > 1:\n",
    "    fib[1] = 1\n",
    "for i in range(2, n):\n",
    "    fib[i] = fib[i-1] + fib[i-2]\n",
    "print(fib)"
   ],
   "id": "ad23faee328049ca",
   "outputs": [
    {
     "name": "stdout",
     "output_type": "stream",
     "text": [
      "[   1    1    2    3    5    8   13   21   34   55   89  144  233  377\n",
      "  610  987 1597 2584 4181 6765]\n"
     ]
    }
   ],
   "execution_count": 32
  },
  {
   "metadata": {},
   "cell_type": "markdown",
   "source": [
    "2. Створіть двовимірний масив (матрицю) розміром 3x3, заповніть його значеннями\n",
    "випадкових дійсних чисел від 1 до 10."
   ],
   "id": "fb73438e733b6610"
  },
  {
   "metadata": {
    "ExecuteTime": {
     "end_time": "2024-08-10T13:06:40.835142Z",
     "start_time": "2024-08-10T13:06:40.827572Z"
    }
   },
   "cell_type": "code",
   "source": [
    "arr = np.random.rand(3, 3)\n",
    "arr"
   ],
   "id": "81e37a49811bde00",
   "outputs": [
    {
     "data": {
      "text/plain": [
       "array([[0.4844443 , 0.94933934, 0.35284262],\n",
       "       [0.60386116, 0.06346708, 0.87689474],\n",
       "       [0.38910085, 0.95142823, 0.34149533]])"
      ]
     },
     "execution_count": 13,
     "metadata": {},
     "output_type": "execute_result"
    }
   ],
   "execution_count": 13
  },
  {
   "metadata": {},
   "cell_type": "markdown",
   "source": [
    "3. Створіть масив розміром 3x3, заповніть його випадковими натуральними числами від\n",
    "1 до 100 та виведіть мін значення"
   ],
   "id": "44e6445807dbbedd"
  },
  {
   "metadata": {
    "ExecuteTime": {
     "end_time": "2024-08-10T13:06:40.841516Z",
     "start_time": "2024-08-10T13:06:40.836156Z"
    }
   },
   "cell_type": "code",
   "source": [
    "arr = np.random.randint(1,100,(3,3))\n",
    "print(arr)\n",
    "print(arr.min())"
   ],
   "id": "a14de38a5a4f9892",
   "outputs": [
    {
     "name": "stdout",
     "output_type": "stream",
     "text": [
      "[[32  5 93]\n",
      " [11 66 82]\n",
      " [80 88  9]]\n",
      "5\n"
     ]
    }
   ],
   "execution_count": 14
  },
  {
   "metadata": {},
   "cell_type": "markdown",
   "source": [
    "4. Створіть масив розміром 4x4, заповніть його випадковими дійсними числами в\n",
    "діапазоні від 0 до 1 та знайдіть кількість елементів, що більше 0.5."
   ],
   "id": "5e175bc5a97b5894"
  },
  {
   "metadata": {
    "ExecuteTime": {
     "end_time": "2024-08-10T13:06:40.849213Z",
     "start_time": "2024-08-10T13:06:40.843011Z"
    }
   },
   "cell_type": "code",
   "source": [
    "arr = np.random.rand(4, 4)\n",
    "print(arr)\n",
    "print(np.sum(arr > 0.5))"
   ],
   "id": "b95d8ebd954b9e42",
   "outputs": [
    {
     "name": "stdout",
     "output_type": "stream",
     "text": [
      "[[0.44758544 0.78742746 0.52823116 0.34168353]\n",
      " [0.55933953 0.2769579  0.55764543 0.50446006]\n",
      " [0.7323315  0.82099006 0.79677452 0.21553055]\n",
      " [0.49488581 0.76356774 0.67786479 0.28466768]]\n",
      "10\n"
     ]
    }
   ],
   "execution_count": 15
  },
  {
   "metadata": {},
   "cell_type": "markdown",
   "source": "5. Створіть два одновимірних масиви розміром 4, заповніть їх випадковими цілими числами від -10 до 10 та виконайте на них поелементні операції додавання, віднімання та множення.",
   "id": "43fa189af6e6e889"
  },
  {
   "metadata": {
    "ExecuteTime": {
     "end_time": "2024-08-10T13:22:57.641957Z",
     "start_time": "2024-08-10T13:22:57.636532Z"
    }
   },
   "cell_type": "code",
   "source": [
    "arr1 = np.random.randint(-10, 11, 4)\n",
    "arr2 = np.random.randint(-10, 11, 4)\n",
    "\n",
    "print(\"array 1:\")\n",
    "print(arr1)\n",
    "print(\"\\narray 2:\")\n",
    "print(arr2)\n",
    "\n",
    "addition = arr1 + arr2\n",
    "print(\"\\naddition:\")\n",
    "print(addition)\n",
    "\n",
    "subtraction = arr1 - arr2\n",
    "print(\"\\nsubtraction:\")\n",
    "print(subtraction)\n",
    "\n",
    "multiplication = arr1 * arr2\n",
    "print(\"\\nmultiplication:\")\n",
    "print(multiplication)"
   ],
   "id": "5bea99c664237d7f",
   "outputs": [
    {
     "name": "stdout",
     "output_type": "stream",
     "text": [
      "array 1:\n",
      "[-8 -2 10  7]\n",
      "\n",
      "array 2:\n",
      "[-10  -7 -10 -10]\n",
      "\n",
      "addition:\n",
      "[-18  -9   0  -3]\n",
      "\n",
      "subtraction:\n",
      "[ 2  5 20 17]\n",
      "\n",
      "multiplication:\n",
      "[  80   14 -100  -70]\n"
     ]
    }
   ],
   "execution_count": 30
  },
  {
   "metadata": {},
   "cell_type": "markdown",
   "source": "6. Створіть дві матриці 3x3, заповніть їх довільними цілими числами від 1 до 20 та знайдіть їх добуток.",
   "id": "34e2ba2cb224a553"
  },
  {
   "metadata": {
    "ExecuteTime": {
     "end_time": "2024-08-10T13:25:25.099414Z",
     "start_time": "2024-08-10T13:25:25.093877Z"
    }
   },
   "cell_type": "code",
   "source": [
    "arr1 = np.random.randint(1, 21, (3, 3))\n",
    "print(\"array 1:\")\n",
    "print(arr1)\n",
    "\n",
    "arr2 = np.random.randint(1, 21, (3, 3))\n",
    "print(\"\\narray 2:\")\n",
    "print(arr2)\n",
    "\n",
    "multiplication = np.dot(arr1, arr2)\n",
    "print(\"\\nmultiplication\")\n",
    "print(multiplication)\n"
   ],
   "id": "4aecea47217501fe",
   "outputs": [
    {
     "name": "stdout",
     "output_type": "stream",
     "text": [
      "array 1:\n",
      "[[ 3 15  1]\n",
      " [ 6  7 18]\n",
      " [ 7 12 14]]\n",
      "\n",
      "array 2:\n",
      "[[15  9 19]\n",
      " [ 7 10  2]\n",
      " [ 3 12 19]]\n",
      "\n",
      "multiplication\n",
      "[[153 189 106]\n",
      " [193 340 470]\n",
      " [231 351 423]]\n"
     ]
    }
   ],
   "execution_count": 34
  },
  {
   "metadata": {},
   "cell_type": "markdown",
   "source": "7. Створіть дві матриці розміром 2x3 та 3x3, заповніть їх випадковими цілими числами в діапазоні від 1 до 4 та перемножте їх між собою.\n",
   "id": "a5db2f864323987d"
  },
  {
   "metadata": {
    "ExecuteTime": {
     "end_time": "2024-08-10T13:26:27.917987Z",
     "start_time": "2024-08-10T13:26:27.912726Z"
    }
   },
   "cell_type": "code",
   "source": [
    "arr1 = np.random.randint(1, 5, (2, 3))\n",
    "print(\"array 1:\")\n",
    "print(arr1)\n",
    "\n",
    "arr2 = np.random.randint(1, 5, (3, 3))\n",
    "print(\"\\narray 2:\")\n",
    "print(arr2)\n",
    "\n",
    "multiplication = np.dot(arr1, arr2)\n",
    "print(\"\\nmultiplication\")\n",
    "print(multiplication)"
   ],
   "id": "f6f06cd4574ea29f",
   "outputs": [
    {
     "name": "stdout",
     "output_type": "stream",
     "text": [
      "array 1:\n",
      "[[2 1 1]\n",
      " [3 2 2]]\n",
      "\n",
      "array 2:\n",
      "[[2 1 3]\n",
      " [1 3 1]\n",
      " [3 3 3]]\n",
      "\n",
      "multiplication\n",
      "[[ 8  8 10]\n",
      " [14 15 17]]\n"
     ]
    }
   ],
   "execution_count": 35
  },
  {
   "metadata": {},
   "cell_type": "markdown",
   "source": "8. Створіть матрицю розміром 3x3, заповніть її випадковими цілими числами в діапазоні від 1 до 7 та знайдіть її обернену матрицю.",
   "id": "feca38e4ebb836ed"
  },
  {
   "metadata": {
    "ExecuteTime": {
     "end_time": "2024-08-10T13:30:27.754326Z",
     "start_time": "2024-08-10T13:30:27.749513Z"
    }
   },
   "cell_type": "code",
   "source": [
    "arr = np.random.randint(1, 8, (3, 3))\n",
    "print(arr)\n",
    "\n",
    "print(np.linalg.inv(arr))"
   ],
   "id": "40539ffb70ded249",
   "outputs": [
    {
     "name": "stdout",
     "output_type": "stream",
     "text": [
      "[[1 5 3]\n",
      " [4 7 4]\n",
      " [2 5 7]]\n",
      "[[-0.54716981  0.37735849  0.01886792]\n",
      " [ 0.37735849 -0.01886792 -0.1509434 ]\n",
      " [-0.11320755 -0.09433962  0.24528302]]\n"
     ]
    }
   ],
   "execution_count": 38
  },
  {
   "metadata": {},
   "cell_type": "markdown",
   "source": "9. Створіть матрицю розміром 4x4, заповніть її випадковими цілими числами в діапазоні від 0 до 1 та транспонуйте її.",
   "id": "4750c88f672c1524"
  },
  {
   "metadata": {
    "ExecuteTime": {
     "end_time": "2024-08-10T13:40:31.237898Z",
     "start_time": "2024-08-10T13:40:31.232228Z"
    }
   },
   "cell_type": "code",
   "source": [
    "arr = np.random.randint(0,2, (4, 4))\n",
    "print(arr)\n",
    "print(arr.T)"
   ],
   "id": "dbb2c5dbc85fa040",
   "outputs": [
    {
     "name": "stdout",
     "output_type": "stream",
     "text": [
      "[[0 0 1 0]\n",
      " [0 1 0 1]\n",
      " [0 1 1 1]\n",
      " [1 0 0 0]]\n",
      "[[0 0 0 1]\n",
      " [0 1 1 0]\n",
      " [1 0 1 0]\n",
      " [0 1 1 0]]\n"
     ]
    }
   ],
   "execution_count": 41
  },
  {
   "metadata": {},
   "cell_type": "markdown",
   "source": "10. Створіть матрицю розміром 3x4 та вектор розміром 4x1, заповніть матрицю випадковими дійсними числами від 0 до 1, а вектор - випадковими дійсними числами від 0 до 1, і знайдіть добуток матриці на вектор.",
   "id": "3764834d9c62fa9"
  },
  {
   "metadata": {
    "ExecuteTime": {
     "end_time": "2024-08-10T14:02:10.899502Z",
     "start_time": "2024-08-10T14:02:10.892458Z"
    }
   },
   "cell_type": "code",
   "source": [
    "arr1 = np.random.rand(3, 4)\n",
    "arr2 = np.random.rand(4, 1)\n",
    "print(arr1)\n",
    "print(arr2)\n",
    "\n",
    "multiplication = np.dot(arr1, arr2)\n",
    "print(\"\\nmultiplication\")\n",
    "print(multiplication)"
   ],
   "id": "1ad3a47d94f0a920",
   "outputs": [
    {
     "name": "stdout",
     "output_type": "stream",
     "text": [
      "[[0.57252306 0.50462542 0.19443989 0.83584632]\n",
      " [0.6051792  0.81082684 0.23305838 0.50224729]\n",
      " [0.9106388  0.31644776 0.60688513 0.79754611]]\n",
      "[[0.55113771]\n",
      " [0.25210941]\n",
      " [0.37487931]\n",
      " [0.20039025]]\n",
      "\n",
      "multiplication\n",
      "[[0.68314681]\n",
      " [0.72596838]\n",
      " [0.96899598]]\n"
     ]
    }
   ],
   "execution_count": 43
  },
  {
   "metadata": {},
   "cell_type": "markdown",
   "source": [
    "11. Створіть матрицю розміром 2x3 та вектор розміром 3x1, заповніть матрицю\n",
    "випадковими дійсними числами від 0 до 1, а вектор - випадковими дійсними числами\n",
    "від 0 до 1, і знайдіть добуток матриці на вектор."
   ],
   "id": "e0ce40d089d493c0"
  },
  {
   "metadata": {
    "ExecuteTime": {
     "end_time": "2024-08-10T14:04:14.465824Z",
     "start_time": "2024-08-10T14:04:14.460401Z"
    }
   },
   "cell_type": "code",
   "source": [
    "arr1 = np.random.rand(2, 3)\n",
    "arr2 = np.random.rand(3, 1)\n",
    "print(arr1)\n",
    "print(arr2)\n",
    "\n",
    "multiplication = np.dot(arr1, arr2)\n",
    "print(\"\\nmultiplication\")\n",
    "print(multiplication)"
   ],
   "id": "6e28b6058630d3dc",
   "outputs": [
    {
     "name": "stdout",
     "output_type": "stream",
     "text": [
      "[[0.81348771 0.90473931 0.50983472]\n",
      " [0.01714963 0.20301059 0.81109946]]\n",
      "[[0.30092319]\n",
      " [0.49844029]\n",
      " [0.41905053]]\n",
      "\n",
      "multiplication\n",
      "[[0.90940235]\n",
      " [0.44624104]]\n"
     ]
    }
   ],
   "execution_count": 47
  },
  {
   "metadata": {},
   "cell_type": "markdown",
   "source": [
    "12. Створіть дві матриці розміром 3x3, заповніть їх випадковими цілими числами в\n",
    "діапазоні від 1 до 5 та знайдіть добуток елементів діагоналі другої матриці."
   ],
   "id": "33f5c8b7ca129af1"
  },
  {
   "metadata": {
    "ExecuteTime": {
     "end_time": "2024-08-10T14:49:14.123884Z",
     "start_time": "2024-08-10T14:49:14.117950Z"
    }
   },
   "cell_type": "code",
   "source": [
    "arr1 = np.random.randint(1, 6, (3, 3))\n",
    "arr2 = np.random.randint(1, 6, (3, 3))\n",
    "print(arr1)\n",
    "print(arr2)\n",
    "print(np.prod(np.diag(arr2)))\n"
   ],
   "id": "e0a68dc3458cfcb8",
   "outputs": [
    {
     "name": "stdout",
     "output_type": "stream",
     "text": [
      "[[2 5 1]\n",
      " [5 2 4]\n",
      " [3 4 5]]\n",
      "[[4 3 2]\n",
      " [1 1 3]\n",
      " [5 4 5]]\n",
      "20\n"
     ]
    }
   ],
   "execution_count": 49
  },
  {
   "metadata": {},
   "cell_type": "markdown",
   "source": [
    "13. Створіть дві матриці розміром 4x4, заповніть їх випадковими цілими числами в\n",
    "діапазоні від 1 до 5 та знайдіть різницю їх елементів."
   ],
   "id": "661f4d198d389b9a"
  },
  {
   "metadata": {
    "ExecuteTime": {
     "end_time": "2024-08-10T14:50:53.096280Z",
     "start_time": "2024-08-10T14:50:53.090662Z"
    }
   },
   "cell_type": "code",
   "source": [
    "arr1 = np.random.randint(1, 6, (4, 4))\n",
    "arr2 = np.random.randint(1, 6, (4, 4))\n",
    "print(arr1)\n",
    "print(arr2)\n",
    "print(arr1 - arr2)"
   ],
   "id": "e7368bb0029fb59a",
   "outputs": [
    {
     "name": "stdout",
     "output_type": "stream",
     "text": [
      "[[4 1 5 2]\n",
      " [2 2 4 4]\n",
      " [5 1 4 3]\n",
      " [2 4 2 2]]\n",
      "[[1 2 2 4]\n",
      " [1 1 3 4]\n",
      " [1 2 4 2]\n",
      " [2 4 5 2]]\n",
      "[[ 3 -1  3 -2]\n",
      " [ 1  1  1  0]\n",
      " [ 4 -1  0  1]\n",
      " [ 0  0 -3  0]]\n"
     ]
    }
   ],
   "execution_count": 50
  },
  {
   "metadata": {},
   "cell_type": "markdown",
   "source": [
    "14. Створіть матрицю розміром 3x3, заповніть її випадковими цілими числами в діапазоні\n",
    "від 1 до 10 та знайдіть найменший елемент матриці."
   ],
   "id": "a0386642f68eaf81"
  },
  {
   "metadata": {
    "ExecuteTime": {
     "end_time": "2024-08-10T14:52:38.543275Z",
     "start_time": "2024-08-10T14:52:38.537968Z"
    }
   },
   "cell_type": "code",
   "source": [
    "arr = np.random.randint(1, 11, (3, 3))\n",
    "print(arr)\n",
    "print(np.min(arr))"
   ],
   "id": "5e69c813dfa91d90",
   "outputs": [
    {
     "name": "stdout",
     "output_type": "stream",
     "text": [
      "[[ 1  5  9]\n",
      " [ 3  2 10]\n",
      " [ 2  9  2]]\n",
      "1\n"
     ]
    }
   ],
   "execution_count": 52
  },
  {
   "metadata": {},
   "cell_type": "markdown",
   "source": [
    "15. Створіть матрицю розміром 3x3, заповніть її випадковими дійсними числами в\n",
    "діапазоні від -2 до 2 та знайдіть вектор-стовпчик, що містить кількість ненульових\n",
    "елементів в кожному рядку матриці.\n"
   ],
   "id": "1f626cbe100e1cf"
  },
  {
   "metadata": {
    "ExecuteTime": {
     "end_time": "2024-08-10T14:57:08.023180Z",
     "start_time": "2024-08-10T14:57:08.017126Z"
    }
   },
   "cell_type": "code",
   "source": [
    "arr = np.random.randint(-2, 3, (3, 3))\n",
    "print(arr)\n",
    "print(np.count_nonzero(arr, axis = 1).reshape(-1,1))"
   ],
   "id": "21ff11abf791e143",
   "outputs": [
    {
     "name": "stdout",
     "output_type": "stream",
     "text": [
      "[[ 2 -2  0]\n",
      " [ 1  0  1]\n",
      " [ 0 -2  0]]\n",
      "[[2]\n",
      " [2]\n",
      " [1]]\n"
     ]
    }
   ],
   "execution_count": 60
  }
 ],
 "metadata": {
  "kernelspec": {
   "display_name": "Python 3",
   "language": "python",
   "name": "python3"
  },
  "language_info": {
   "codemirror_mode": {
    "name": "ipython",
    "version": 2
   },
   "file_extension": ".py",
   "mimetype": "text/x-python",
   "name": "python",
   "nbconvert_exporter": "python",
   "pygments_lexer": "ipython2",
   "version": "2.7.6"
  }
 },
 "nbformat": 4,
 "nbformat_minor": 5
}
